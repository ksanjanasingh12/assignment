{
  "nbformat": 4,
  "nbformat_minor": 0,
  "metadata": {
    "colab": {
      "name": "assignment.ipynb",
      "provenance": [],
      "collapsed_sections": []
    },
    "kernelspec": {
      "name": "python3",
      "display_name": "Python 3"
    },
    "language_info": {
      "name": "python"
    }
  },
  "cells": [
    {
      "cell_type": "code",
      "metadata": {
        "colab": {
          "base_uri": "https://localhost:8080/"
        },
        "id": "NRWEj_rNesc1",
        "outputId": "7ff424e9-a265-44e0-e224-576ce3073050"
      },
      "source": [
        "#create 2 list with some brand names\n",
        "lst1= [\"lakme\",\"maybelline\",\"ponds\",\"nivea\",\"max\",\"gucci\"]\n",
        "lst2= [\"max\",\"trends\",\"pantaloons\",\"gucci\",\"ponds\",\"lakme\"]\n",
        "print(lst1,lst2)"
      ],
      "execution_count": 1,
      "outputs": [
        {
          "output_type": "stream",
          "text": [
            "['lakme', 'maybelline', 'ponds', 'nivea'] ['max', 'trends', 'pantaloons', 'gucci']\n"
          ],
          "name": "stdout"
        }
      ]
    },
    {
      "cell_type": "code",
      "metadata": {
        "colab": {
          "base_uri": "https://localhost:8080/"
        },
        "id": "x-aHLSeIg_E1",
        "outputId": "4911d9d8-c7f2-4855-f34e-f6c018642866"
      },
      "source": [
        "#list of overlapping brandnames in both lists\n",
        "lst1= [\"lakme\",\"maybelline\",\"ponds\",\"nivea\",\"max\",\"gucci\"]\n",
        "lst2= [\"max\",\"trends\",\"pantaloons\",\"gucci\",\"ponds\",\"lakme\"]\n",
        "print(intersection(lst1,lst2))\n",
        "def intersection(lst1,lst2):\n",
        "           lst3=[value for value in lst1 if value in lst2]\n",
        "           return lst3"
      ],
      "execution_count": 12,
      "outputs": [
        {
          "output_type": "stream",
          "text": [
            "['lakme', 'ponds', 'max', 'gucci']\n"
          ],
          "name": "stdout"
        }
      ]
    },
    {
      "cell_type": "code",
      "metadata": {
        "colab": {
          "base_uri": "https://localhost:8080/"
        },
        "id": "qdJS_RyPjc-x",
        "outputId": "932b0dd7-a62f-4d08-de6e-9d724d6c4f90"
      },
      "source": [
        "#print even numbers starting with 20 and ending with 40\n",
        "\n",
        "for number in range (20,maximum+1):\n",
        "  if(number%2 == 0):\n",
        "    print(\"{0}\".format(number))"
      ],
      "execution_count": 19,
      "outputs": [
        {
          "output_type": "stream",
          "text": [
            "20\n",
            "22\n",
            "24\n",
            "26\n",
            "28\n",
            "30\n",
            "32\n",
            "34\n",
            "36\n",
            "38\n",
            "40\n"
          ],
          "name": "stdout"
        }
      ]
    }
  ]
}